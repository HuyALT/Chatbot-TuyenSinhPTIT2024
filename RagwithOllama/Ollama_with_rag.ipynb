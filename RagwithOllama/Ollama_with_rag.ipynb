{
 "cells": [
  {
   "cell_type": "code",
   "execution_count": null,
   "metadata": {},
   "outputs": [],
   "source": [
    "%pip install langchain langchain_community langchain-openai langchain-ollama faiss-cpu"
   ]
  },
  {
   "cell_type": "code",
   "execution_count": null,
   "metadata": {},
   "outputs": [],
   "source": [
    "import os\n",
    "from langchain.text_splitter import RecursiveCharacterTextSplitter\n",
    "from langchain.schema import Document\n",
    "\n",
    "# Đường dẫn tới thư mục chứa các file .txt\n",
    "folder_path = \"TuyenSinhPTITData\"\n",
    "\n",
    "# Danh sách các file .txt trong thư mục\n",
    "txt_files = [os.path.join(folder_path, file) for file in os.listdir(folder_path) if file.endswith(\".txt\")]\n",
    "\n",
    "# Hàm để load nội dung từ file .txt\n",
    "def load_txt(file_path):\n",
    "    with open(file_path, 'r', encoding='utf-8') as file:\n",
    "        return file.read()\n",
    "\n",
    "# Load nội dung từ tất cả các file .txt\n",
    "docs = [load_txt(file) for file in txt_files]\n",
    "doc_objects = [Document(page_content=doc, metadata={\"source\": file}) for doc, file in zip(docs, txt_files)]\n",
    "\n",
    "# Initialize a text splitter with specified chunk size and overlap\n",
    "text_splitter = RecursiveCharacterTextSplitter.from_tiktoken_encoder(\n",
    "    chunk_size=256, chunk_overlap=20\n",
    ")\n",
    "doc_splits = text_splitter.split_documents(doc_objects)\n"
   ]
  },
  {
   "cell_type": "code",
   "execution_count": 2,
   "metadata": {},
   "outputs": [
    {
     "name": "stderr",
     "output_type": "stream",
     "text": [
      "d:\\Code\\notebook\\RagOllama\\.venv\\lib\\site-packages\\tqdm\\auto.py:21: TqdmWarning: IProgress not found. Please update jupyter and ipywidgets. See https://ipywidgets.readthedocs.io/en/stable/user_install.html\n",
      "  from .autonotebook import tqdm as notebook_tqdm\n",
      "C:\\Users\\Huy10\\AppData\\Local\\Temp\\ipykernel_15824\\583171914.py:7: LangChainDeprecationWarning: The class `HuggingFaceEmbeddings` was deprecated in LangChain 0.2.2 and will be removed in 1.0. An updated version of the class exists in the :class:`~langchain-huggingface package and should be used instead. To use it run `pip install -U :class:`~langchain-huggingface` and import as `from :class:`~langchain_huggingface import HuggingFaceEmbeddings``.\n",
      "  embeddings = HuggingFaceEmbeddings(model_name=model_name)\n"
     ]
    }
   ],
   "source": [
    "from sentence_transformers import SentenceTransformer\n",
    "from langchain.embeddings import HuggingFaceEmbeddings\n",
    "from langchain.vectorstores import FAISS\n",
    "\n",
    "# Khởi tạo mô hình SentenceTransformers\n",
    "model_name = 'bkai-foundation-models/vietnamese-bi-encoder'\n",
    "embeddings = HuggingFaceEmbeddings(model_name=model_name)\n",
    "\n",
    "# Tạo FAISS Vector Store\n",
    "vectorstore = FAISS.from_documents(doc_splits, embedding=embeddings)\n",
    "# Chuyển đổi vectorstore thành retriever\n",
    "retriever = vectorstore.as_retriever(k=4)\n"
   ]
  },
  {
   "cell_type": "code",
   "execution_count": 3,
   "metadata": {},
   "outputs": [],
   "source": [
    "vectorstore.save_local(\"faiss_index\")"
   ]
  },
  {
   "cell_type": "code",
   "execution_count": 4,
   "metadata": {},
   "outputs": [],
   "source": [
    "from sentence_transformers import SentenceTransformer\n",
    "from langchain.embeddings import HuggingFaceEmbeddings\n",
    "from langchain.vectorstores import FAISS\n",
    "\n",
    "# Khởi tạo mô hình SentenceTransformers\n",
    "model_name = 'bkai-foundation-models/vietnamese-bi-encoder'\n",
    "embeddings = HuggingFaceEmbeddings(model_name=model_name)\n",
    "\n",
    "# Tạo FAISS Vector Store\n",
    "vectorstore = FAISS.load_local(\"faiss_index\", embeddings, allow_dangerous_deserialization=True)\n",
    "# Chuyển đổi vectorstore thành retriever\n",
    "retriever = vectorstore.as_retriever(k=4)"
   ]
  },
  {
   "cell_type": "code",
   "execution_count": 3,
   "metadata": {},
   "outputs": [],
   "source": [
    "from langchain_ollama import ChatOllama\n",
    "from langchain.prompts import PromptTemplate\n",
    "from langchain_core.output_parsers import StrOutputParser\n",
    "# Tạo Prompt hương dẫn cho mô hình\n",
    "prompt = PromptTemplate(\n",
    "    template=\"\"\"You are an assistant for question-answering tasks.\n",
    "    Use the following documents to answer the question.\n",
    "    If you don't know the answer, just say that you don't know:\n",
    "    Question: {question}\n",
    "    Documents: {documents}\n",
    "    Answer:\n",
    "    \"\"\",\n",
    "    input_variables=[\"question\", \"documents\"],\n",
    ")\n",
    "\n",
    "llm = ChatOllama(\n",
    "    model=\"llama3.1\",\n",
    "    temperature=0,\n",
    ")\n",
    "\n",
    "rag_chain = prompt | llm | StrOutputParser()"
   ]
  },
  {
   "cell_type": "code",
   "execution_count": 4,
   "metadata": {},
   "outputs": [],
   "source": [
    "# Khai báo RAG application class\n",
    "class RAGApplication:\n",
    "    def __init__(self, retriever, rag_chain):\n",
    "        self.retriever = retriever\n",
    "        self.rag_chain = rag_chain\n",
    "    def run(self, question):\n",
    "        # Truy xuất dữ liệu\n",
    "        documents = self.retriever.invoke(question)\n",
    "        # Trích xuất nội dung từ document\n",
    "        doc_texts = \"\\\\n\".join([doc.page_content for doc in documents])\n",
    "        # Sinh câu trả lời từ câu hỏi và nội dung văn bản\n",
    "        answer = self.rag_chain.invoke({\"question\": question, \"documents\": doc_texts})\n",
    "        return answer"
   ]
  },
  {
   "cell_type": "code",
   "execution_count": 8,
   "metadata": {},
   "outputs": [
    {
     "name": "stdout",
     "output_type": "stream",
     "text": [
      "Question: Cơ hội việc làm khi tốt nghiệp ngành Quản trị kinh doang\n",
      "Answer: Sinh viên tốt nghiệp ngành Quản trị kinh doanh có thể đảm nhận các vị trí công việc như quản lý, cán bộ nghiên cứu, giảng dạy về marketing tại các Viện, trường nghề nghiệp. Họ cũng có thể tự tạo lập doanh nghiệp (start up) và tìm kiếm cơ hội kinh doanh riêng. Ngoài ra, sinh viên này còn có thể làm việc tại các vị trí cụ thể khác trong lĩnh vực kinh doanh. Có thể tiếp tục học lên trình độ sau đại học ngành Kinh doanh và quản lý.\n"
     ]
    }
   ],
   "source": [
    "\n",
    "rag_application = RAGApplication(retriever, rag_chain)\n",
    "# Example usage\n",
    "question = \"Cơ hội việc làm khi tốt nghiệp ngành Quản trị kinh doang\"\n",
    "answer = rag_application.run(question)\n",
    "print(\"Question:\", question)\n",
    "print(\"Answer:\", answer)"
   ]
  },
  {
   "cell_type": "code",
   "execution_count": 5,
   "metadata": {},
   "outputs": [
    {
     "name": "stdout",
     "output_type": "stream",
     "text": [
      "* Running on local URL:  http://127.0.0.1:7860\n",
      "\n",
      "To create a public link, set `share=True` in `launch()`.\n"
     ]
    },
    {
     "data": {
      "text/html": [
       "<div><iframe src=\"http://127.0.0.1:7860/\" width=\"100%\" height=\"500\" allow=\"autoplay; camera; microphone; clipboard-read; clipboard-write;\" frameborder=\"0\" allowfullscreen></iframe></div>"
      ],
      "text/plain": [
       "<IPython.core.display.HTML object>"
      ]
     },
     "metadata": {},
     "output_type": "display_data"
    },
    {
     "data": {
      "text/plain": []
     },
     "execution_count": 5,
     "metadata": {},
     "output_type": "execute_result"
    }
   ],
   "source": [
    "import gradio as gr\n",
    "\n",
    "rag_application = RAGApplication(retriever, rag_chain)\n",
    "\n",
    "def generate(messages, history):\n",
    "    return rag_application.run(messages[\"text\"])\n",
    "\n",
    "demo = gr.ChatInterface(\n",
    "    fn=generate,\n",
    "    type=\"messages\",\n",
    "     examples=[\n",
    "        [\"Điểm chuẩn ngành công nghệ thông tin năm 2023?\"],\n",
    "        [\"Cơ sở vật chất của học viện như thế nào?\"],\n",
    "        [\"Các phương thức tuyển sinh đại học chính quy?\"],\n",
    "    ],\n",
    "    title=\"Chatbot tư vấn tuyển sinh Học viện Công nghệ Bưu chính Viễn thông năm 2024\",\n",
    "    multimodal=True,\n",
    ")\n",
    "demo.launch()"
   ]
  }
 ],
 "metadata": {
  "kernelspec": {
   "display_name": ".venv",
   "language": "python",
   "name": "python3"
  },
  "language_info": {
   "codemirror_mode": {
    "name": "ipython",
    "version": 3
   },
   "file_extension": ".py",
   "mimetype": "text/x-python",
   "name": "python",
   "nbconvert_exporter": "python",
   "pygments_lexer": "ipython3",
   "version": "3.10.0"
  }
 },
 "nbformat": 4,
 "nbformat_minor": 2
}
